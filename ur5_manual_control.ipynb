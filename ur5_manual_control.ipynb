{
 "cells": [
  {
   "cell_type": "code",
   "execution_count": 2,
   "metadata": {
    "collapsed": false
   },
   "outputs": [],
   "source": [
    "import socket\n",
    "from socket import gethostname, gethostbyname\n",
    "from ConfigParser import SafeConfigParser\n",
    "import os\n",
    "from PyDragonfly import Dragonfly_Module, CMessage, copy_to_msg\n",
    "import Dragonfly_config as rc"
   ]
  },
  {
   "cell_type": "code",
   "execution_count": 3,
   "metadata": {
    "collapsed": false
   },
   "outputs": [],
   "source": [
    "cfg = SafeConfigParser()\n",
    "config_dir = os.path.join(os.environ['BCI_CONFIG'], 'newunify')"
   ]
  },
  {
   "cell_type": "code",
   "execution_count": 4,
   "metadata": {
    "collapsed": false
   },
   "outputs": [
    {
     "data": {
      "text/plain": [
       "['C:\\\\Users\\\\amcmorl\\\\Documents\\\\BCI\\\\app_configs\\\\newunify\\\\DemiGod_NewUnify_MdL_simple.conf']"
      ]
     },
     "execution_count": 4,
     "metadata": {},
     "output_type": "execute_result"
    }
   ],
   "source": [
    "cfg.read(os.path.join(config_dir, 'DemiGod_NewUnify_MdL_simple.conf'))"
   ]
  },
  {
   "cell_type": "code",
   "execution_count": null,
   "metadata": {
    "collapsed": false
   },
   "outputs": [],
   "source": []
  },
  {
   "cell_type": "code",
   "execution_count": 7,
   "metadata": {
    "collapsed": false
   },
   "outputs": [],
   "source": [
    "def read_list_of_float(my_string):\n",
    "    return [float(x) for x in my_string[1:-1].split(',')]"
   ]
  },
  {
   "cell_type": "code",
   "execution_count": 8,
   "metadata": {
    "collapsed": false
   },
   "outputs": [
    {
     "data": {
      "text/plain": [
       "1"
      ]
     },
     "execution_count": 8,
     "metadata": {},
     "output_type": "execute_result"
    }
   ],
   "source": [
    "mod = Dragonfly_Module(0,0)\n",
    "mod.ConnectToMMM('localhost:7111')\n",
    "mod.SendModuleReady()"
   ]
  },
  {
   "cell_type": "code",
   "execution_count": 9,
   "metadata": {
    "collapsed": false
   },
   "outputs": [],
   "source": [
    "def send_position(pos_name, vel):\n",
    "    vel = float(vel)\n",
    "    assert vel < 2.\n",
    "    pos = read_list_of_float(cfg.get(pos_name, 'target_pos'))\n",
    "    print pos\n",
    "    msg = CMessage(rc.MT_UR5_MOVEMENT_COMMAND)\n",
    "    mdf = rc.MDF_UR5_MOVEMENT_COMMAND()\n",
    "    mdf.position[:] = pos[:]\n",
    "    mdf.max_velocity = vel\n",
    "    mdf.acceleration = 0.2\n",
    "    copy_to_msg(mdf, msg)\n",
    "    mod.SendMessage(msg)"
   ]
  },
  {
   "cell_type": "code",
   "execution_count": 12,
   "metadata": {
    "collapsed": false
   },
   "outputs": [
    {
     "name": "stdout",
     "output_type": "stream",
     "text": [
      "[0.33029437, -0.33029437, 0.3, 1.7599884, -0.72901107, 1.7599884]\n"
     ]
    }
   ],
   "source": [
    "cfg.read(os.path.join(config_dir, 'DemiGod_NewUnify_MdL_simple.conf'))\n",
    "send_position('testpos1', 1)"
   ]
  },
  {
   "cell_type": "code",
   "execution_count": 1,
   "metadata": {
    "collapsed": false
   },
   "outputs": [
    {
     "data": {
      "text/plain": [
       "True"
      ]
     },
     "execution_count": 1,
     "metadata": {},
     "output_type": "execute_result"
    }
   ],
   "source": [
    "1== True"
   ]
  },
  {
   "cell_type": "code",
   "execution_count": 2,
   "metadata": {
    "collapsed": true
   },
   "outputs": [],
   "source": [
    "test = 0"
   ]
  },
  {
   "cell_type": "code",
   "execution_count": 3,
   "metadata": {
    "collapsed": false
   },
   "outputs": [
    {
     "name": "stdout",
     "output_type": "stream",
     "text": [
      "Hello\n"
     ]
    }
   ],
   "source": [
    "if not test: print \"Hello\""
   ]
  },
  {
   "cell_type": "code",
   "execution_count": null,
   "metadata": {
    "collapsed": true
   },
   "outputs": [],
   "source": []
  },
  {
   "cell_type": "code",
   "execution_count": null,
   "metadata": {
    "collapsed": true
   },
   "outputs": [],
   "source": []
  }
 ],
 "metadata": {
  "kernelspec": {
   "display_name": "Python 2",
   "language": "python",
   "name": "python2"
  },
  "language_info": {
   "codemirror_mode": {
    "name": "ipython",
    "version": 2
   },
   "file_extension": ".py",
   "mimetype": "text/x-python",
   "name": "python",
   "nbconvert_exporter": "python",
   "pygments_lexer": "ipython2",
   "version": "2.7.11"
  }
 },
 "nbformat": 4,
 "nbformat_minor": 0
}
