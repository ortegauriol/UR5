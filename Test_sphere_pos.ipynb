{
 "cells": [
  {
   "cell_type": "code",
   "execution_count": 73,
   "metadata": {
    "collapsed": false
   },
   "outputs": [
    {
     "name": "stdout",
     "output_type": "stream",
     "text": [
      "[ 0.34860587 -0.34860587  0.49670247  2.01339487 -0.83397546  1.54493222]\n"
     ]
    }
   ],
   "source": [
    "#new ipython notebook to calculate position and orientation for config file!!\n",
    "#phi positive is moving to the right\n",
    "# Roh 2012: hand positioned at 60% of arm length from shoulder\n",
    "\n",
    "import numpy as np\n",
    "from numpy import cos, sin, tan\n",
    "from amcmorl_py_tools.vecgeom import transformations\n",
    "\n",
    "#transformation matrix Rz, base offset -45 degrees\n",
    "a=np.radians(-45)\n",
    "Rzz = np.array([[cos(a), -sin(a), 0], [sin(a), cos(a), 0], [0,0,1]])\n",
    "\n",
    "home = [0.500, -0.500, 0.300, 1.7560, -0.7290, 1.7560]#start position and orientation\n",
    "\n",
    "arm = 0.60\n",
    "shoulder = home[0:3]+np.dot(Rzz,np.array([0.6*arm+0.16,0,0]))\n",
    "th = np.radians(15)\n",
    "phi = np.radians(0) #negative is robot direction to left\n",
    "#to left phi 15 degrees kan nog net!!\n",
    "#of voor alle metingen de base veranderen?\n",
    "th2 = np.radians(90) - th\n",
    "th3 = np.radians(90) + th\n",
    "sphere_pos = np.array([-(arm+0.16) * sin(th2) * cos(phi), (arm+0.16) * sin(th2) * sin(phi), (arm+0.16) * cos(th2)])\n",
    "\n",
    "begin = transformations.Rz(np.radians(90)) #turn 90 z-axis, y-axis of transducer upwards\n",
    "\n",
    "turn_theta = np.dot(transformations.Rx(th3),begin)\n",
    "turn_phi = np.dot(transformations.Rz(-phi-a),turn_theta) # \"a\" is base-offset\n",
    "\n",
    "orientation = transformations.DCM2axang(turn_phi)\n",
    "\n",
    "#orientation = np.array([th3 * cos(-a - phi), th3 * sin(-a - phi), 0])\n",
    "target = np.hstack([np.dot(Rzz, sphere_pos) + shoulder, orientation])\n",
    "print target"
   ]
  },
  {
   "cell_type": "code",
   "execution_count": 35,
   "metadata": {
    "collapsed": false
   },
   "outputs": [],
   "source": [
    "begin = np.dot(transformations.Rx(np.radians(90)),transformations.Rz(np.radians(90)),transformations.Rz(np.radians(45))) "
   ]
  },
  {
   "cell_type": "code",
   "execution_count": 40,
   "metadata": {
    "collapsed": false
   },
   "outputs": [
    {
     "name": "stdout",
     "output_type": "stream",
     "text": [
      "[0.5, -0.5, 0.3, 1.756, -0.729, 1.756]\n"
     ]
    }
   ],
   "source": [
    "print home"
   ]
  },
  {
   "cell_type": "code",
   "execution_count": 15,
   "metadata": {
    "collapsed": false
   },
   "outputs": [
    {
     "data": {
      "text/plain": [
       "1.7453292519943295"
      ]
     },
     "execution_count": 15,
     "metadata": {},
     "output_type": "execute_result"
    }
   ],
   "source": [
    "np.radians(90+10)*cos(-np.radians(-45)+np.radians(-45))"
   ]
  },
  {
   "cell_type": "code",
   "execution_count": 16,
   "metadata": {
    "collapsed": false
   },
   "outputs": [
    {
     "data": {
      "text/plain": [
       "0.0"
      ]
     },
     "execution_count": 16,
     "metadata": {},
     "output_type": "execute_result"
    }
   ],
   "source": [
    "sin((np.radians(45)+np.radians(-45)))"
   ]
  },
  {
   "cell_type": "code",
   "execution_count": 77,
   "metadata": {
    "collapsed": false
   },
   "outputs": [
    {
     "data": {
      "text/plain": [
       "array([-0.15139413,  0.15139413,  0.19670247])"
      ]
     },
     "execution_count": 77,
     "metadata": {},
     "output_type": "execute_result"
    }
   ],
   "source": [
    "np.dot(transformations.Rz(np.radians(0)),(target[:3]-home[:3]))"
   ]
  },
  {
   "cell_type": "code",
   "execution_count": 13,
   "metadata": {
    "collapsed": false
   },
   "outputs": [
    {
     "data": {
      "text/plain": [
       "[0.5, -0.5, 0.3, 1.756, -0.729, 1.756]"
      ]
     },
     "execution_count": 13,
     "metadata": {},
     "output_type": "execute_result"
    }
   ],
   "source": [
    "home"
   ]
  },
  {
   "cell_type": "code",
   "execution_count": 14,
   "metadata": {
    "collapsed": false
   },
   "outputs": [
    {
     "data": {
      "text/plain": [
       "array([ 0.33029437, -0.33029437,  0.3       ,  1.7599884 , -0.72901107,\n",
       "        1.7599884 ])"
      ]
     },
     "execution_count": 14,
     "metadata": {},
     "output_type": "execute_result"
    }
   ],
   "source": [
    "target"
   ]
  },
  {
   "cell_type": "code",
   "execution_count": 76,
   "metadata": {
    "collapsed": false
   },
   "outputs": [
    {
     "data": {
      "text/plain": [
       "array([ -9.71445147e-17,   2.14103628e-01,   1.96702474e-01])"
      ]
     },
     "execution_count": 76,
     "metadata": {},
     "output_type": "execute_result"
    }
   ],
   "source": [
    "np.dot(transformations.Rz(np.radians(-45)),(target[:3]-home[:3]))"
   ]
  },
  {
   "cell_type": "code",
   "execution_count": 5,
   "metadata": {
    "collapsed": false
   },
   "outputs": [
    {
     "name": "stdout",
     "output_type": "stream",
     "text": [
      "[1, 2, 3]\n",
      "1\n",
      "[2, 3]\n",
      "2\n",
      "[3]\n",
      "3\n"
     ]
    }
   ],
   "source": [
    "mylist = [1,2,3]\n",
    "while mylist:\n",
    "    print mylist\n",
    "    print mylist.pop(0)"
   ]
  },
  {
   "cell_type": "code",
   "execution_count": null,
   "metadata": {
    "collapsed": false
   },
   "outputs": [],
   "source": []
  },
  {
   "cell_type": "code",
   "execution_count": 21,
   "metadata": {
    "collapsed": false
   },
   "outputs": [
    {
     "data": {
      "text/plain": [
       "0.14465359917080015"
      ]
     },
     "execution_count": 21,
     "metadata": {},
     "output_type": "execute_result"
    }
   ],
   "source": [
    "0.17*sin(45)"
   ]
  },
  {
   "cell_type": "code",
   "execution_count": 24,
   "metadata": {
    "collapsed": false
   },
   "outputs": [
    {
     "data": {
      "text/plain": [
       "0.2404163056034262"
      ]
     },
     "execution_count": 24,
     "metadata": {},
     "output_type": "execute_result"
    }
   ],
   "source": [
    "((0.17**2)*2)**(1/2.)"
   ]
  },
  {
   "cell_type": "code",
   "execution_count": null,
   "metadata": {
    "collapsed": true
   },
   "outputs": [],
   "source": []
  }
 ],
 "metadata": {
  "kernelspec": {
   "display_name": "Python 2",
   "language": "python",
   "name": "python2"
  },
  "language_info": {
   "codemirror_mode": {
    "name": "ipython",
    "version": 2
   },
   "file_extension": ".py",
   "mimetype": "text/x-python",
   "name": "python",
   "nbconvert_exporter": "python",
   "pygments_lexer": "ipython2",
   "version": "2.7.5"
  }
 },
 "nbformat": 4,
 "nbformat_minor": 0
}
